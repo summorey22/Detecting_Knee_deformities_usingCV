{
 "cells": [
  {
   "cell_type": "code",
   "execution_count": 2,
   "metadata": {},
   "outputs": [],
   "source": [
    "# pyright: reportMissingImports=false\n",
    "# pyright: reportMissingModuleSource=false\n",
    "\n",
    "import cv2\n",
    "import matplotlib.pyplot as plt\n",
    "import os\n",
    "from tensorflow.keras.preprocessing.image import ImageDataGenerator\n",
    "from tensorflow.keras.preprocessing.image import img_to_array\n",
    "from tensorflow.keras.preprocessing.image import load_img"
   ]
  },
  {
   "cell_type": "code",
   "execution_count": 6,
   "metadata": {},
   "outputs": [],
   "source": [
    "# Preprocessing \n",
    "\n",
    "temp = ['Bowlegs', 'Knock-knee', 'Normal Knee']\n",
    "\n",
    "for i in temp:\n",
    "    for j in os.listdir('./Dataset/Original/' + i):\n",
    "        org = cv2.imread('./Dataset/Original/' + i + '/' + j)\n",
    "        gray = cv2.cvtColor(org, cv2.COLOR_BGR2GRAY)\n",
    "        pr = cv2.resize(gray, (128, 256))\n",
    "\n",
    "        cv2.imwrite('./Dataset/Preprocessed/' + i + '/' + j, pr)"
   ]
  },
  {
   "cell_type": "code",
   "execution_count": 9,
   "metadata": {},
   "outputs": [],
   "source": [
    "# Augmentation\n",
    "\n",
    "for i in temp:\n",
    "\n",
    "    datagen = ImageDataGenerator(\n",
    "        rotation_range=30,\n",
    "        zoom_range=0.15,\n",
    "        width_shift_range=0.2,\n",
    "        height_shift_range=0.2,\n",
    "        shear_range=0.15,\n",
    "        horizontal_flip=True,\n",
    "        fill_mode=\"nearest\",\n",
    "    )\n",
    "    for j in os.listdir('./Dataset/Preprocessed/' + i):\n",
    "        pic = load_img('./Dataset/Preprocessed/' + i + '/' + j)\n",
    "        pic.getpixel\n",
    "        pic_array = img_to_array(pic)\n",
    "        pic_array = pic_array.reshape((1,) + pic_array.shape)\n",
    "\n",
    "        count = 0\n",
    "        for batch in datagen.flow( pic_array, batch_size = 1, save_to_dir = './Dataset/Augmented/' + i,  save_prefix=i, save_format='jpg'):\n",
    "            count += 1\n",
    "            if count >= 10:\n",
    "                break"
   ]
  }
 ],
 "metadata": {
  "kernelspec": {
   "display_name": "Python 3.9.12 ('base')",
   "language": "python",
   "name": "python3"
  },
  "language_info": {
   "codemirror_mode": {
    "name": "ipython",
    "version": 3
   },
   "file_extension": ".py",
   "mimetype": "text/x-python",
   "name": "python",
   "nbconvert_exporter": "python",
   "pygments_lexer": "ipython3",
   "version": "3.9.12"
  },
  "orig_nbformat": 4,
  "vscode": {
   "interpreter": {
    "hash": "e11265db24d7d7b1d9a614b6c8aed899b36881c20eb26f07e2c77f204b3164ce"
   }
  }
 },
 "nbformat": 4,
 "nbformat_minor": 2
}
