{
 "cells": [
  {
   "cell_type": "code",
   "execution_count": null,
   "metadata": {},
   "outputs": [],
   "source": [
    "# pyright: reportMissingImports=false\n",
    "# pyright: reportMissingModuleSource=false\n",
    "import cv2\n",
    "import matplotlib.pyplot as plt\n",
    "from tensorflow.keras.preprocessing.image import ImageDataGenerator\n",
    "from tensorflow.keras.preprocessing.image import img_to_array\n",
    "from tensorflow.keras.preprocessing.image import load_img"
   ]
  },
  {
   "cell_type": "code",
   "execution_count": null,
   "metadata": {},
   "outputs": [],
   "source": [
    "# Preprocessing \n",
    "\n",
    "temp = ['Bowlegs', 'Knock Knees', 'Normal Knee']\n",
    "\n",
    "for i in temp:\n",
    "    for j in range(1, 11):\n",
    "        org = cv2.imread('./Dataset/Original/' + i + '/' + str(j) + '.jpg')\n",
    "        gray = cv2.cvtColor(org, cv2.COLOR_BGR2GRAY)\n",
    "        pr = cv2.resize(gray, (400, 400))\n",
    "\n",
    "        (fig, axs) = plt.subplots(nrows=1, ncols=3, figsize=(15, 15))\n",
    "        axs[0].imshow(cv2.cvtColor(org, cv2.COLOR_BGR2RGB))\n",
    "        axs[1].imshow(gray, cmap = 'gray')\n",
    "        axs[2].imshow(pr, cmap = 'gray')\n",
    "\n",
    "        axs[0].set_title('Original')\n",
    "        axs[1].set_title('Grayscale')\n",
    "        axs[2].set_title('Resized')\n",
    "\n",
    "        plt.show()\n",
    "\n",
    "        cv2.imwrite('./Dataset/Preprocessed/' + i + '/' + str(j) + '.jpg', pr)"
   ]
  },
  {
   "cell_type": "code",
   "execution_count": null,
   "metadata": {},
   "outputs": [],
   "source": [
    "# Augmentation\n",
    "\n",
    "datagen = ImageDataGenerator(\n",
    "    rotation_range=30,\n",
    "    zoom_range=0.15,\n",
    "    width_shift_range=0.2,\n",
    "    height_shift_range=0.2,\n",
    "    shear_range=0.15,\n",
    "    horizontal_flip=True,\n",
    "    fill_mode=\"nearest\",\n",
    ")\n",
    "\n",
    "for i in temp:\n",
    "    for j in range(1, 11):\n",
    "        pic = load_img('./Dataset/Preprocessed/' + i + '/' + str(j) + '.jpg')\n",
    "        pic.getpixel\n",
    "        pic_array = img_to_array(pic)\n",
    "        pic_array = pic_array.reshape((1,) + pic_array.shape)\n",
    "\n",
    "        count = 0\n",
    "        for batch in datagen.flow( pic_array, batch_size = 1, save_to_dir = './Dataset/Augmented/' + i,  save_prefix=i, save_format='jpg'):\n",
    "            count += 1\n",
    "            if count > 9:\n",
    "                break"
   ]
  }
 ],
 "metadata": {
  "kernelspec": {
   "display_name": "Python 3.9.12 ('base')",
   "language": "python",
   "name": "python3"
  },
  "language_info": {
   "name": "python",
   "version": "3.9.12"
  },
  "orig_nbformat": 4,
  "vscode": {
   "interpreter": {
    "hash": "e11265db24d7d7b1d9a614b6c8aed899b36881c20eb26f07e2c77f204b3164ce"
   }
  }
 },
 "nbformat": 4,
 "nbformat_minor": 2
}
