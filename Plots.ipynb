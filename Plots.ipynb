{
 "cells": [
  {
   "cell_type": "code",
   "execution_count": 16,
   "metadata": {},
   "outputs": [],
   "source": [
    "import pandas as pd\n",
    "import numpy as np\n",
    "import matplotlib.pyplot as plt\n",
    "from sklearn.metrics import accuracy_score, f1_score, roc_auc_score\n",
    "from sklearn.datasets import load_breast_cancer\n",
    "from sklearn.model_selection import cross_val_score\n",
    "from sklearn.svm import SVC\n",
    "from sklearn.linear_model import LogisticRegression\n",
    "from sklearn.ensemble import RandomForestClassifier\n",
    "from sklearn.naive_bayes import GaussianNB\n",
    "from sklearn.pipeline import Pipeline"
   ]
  },
  {
   "cell_type": "code",
   "execution_count": 10,
   "metadata": {},
   "outputs": [],
   "source": [
    "df = pd.read_csv('./ORB/ORB_FINAL.csv')\n",
    "df = df.sample(frac=1)\n",
    "X = df.iloc[:, 0:5]\n",
    "y = df.iloc[:, 6]"
   ]
  },
  {
   "cell_type": "code",
   "execution_count": 20,
   "metadata": {},
   "outputs": [],
   "source": [
    "from functools import reduce\n",
    "\n",
    "def _get_model_name(model):\n",
    "    \"\"\"\n",
    "            Returns a string with the name of a sklearn model\n",
    "                model: Sklearn stimator class\n",
    "    \"\"\"\n",
    "    if isinstance(model, Pipeline):\n",
    "        estimator = model.steps[-1][1]\n",
    "        name = \"Pipeline_\" + str(estimator)[:str(estimator).find(\"(\")]\n",
    "    else: \n",
    "        name = str(model)[:str(model).find(\"(\")]\n",
    "    return name\n",
    "    \n",
    "    \n",
    "def plot_cv_score(X, y, models_list, cv = 5, scoring_list = None, refit = True, return_scores = False):\n",
    "    \"\"\" \n",
    "            X: numpy_array/pandas dataframe n_rows, m_features\n",
    "            y: numpy_array/pandas dataframe n_rows\n",
    "            Plots min, max and avg kfold crosval_score for a list of models\n",
    "        \n",
    "    \"\"\"\n",
    "    \n",
    "        \n",
    "        \n",
    "    names, mean_score = list(), list()\n",
    "    ldf = list()\n",
    "    mnames = list()\n",
    "    \n",
    "    for i, model in enumerate(models_list):\n",
    "        name = _get_model_name(model)\n",
    "    \n",
    "        if refit:\n",
    "            model.fit(X, y)\n",
    "                \n",
    "        for metric in score_list:\n",
    "            \n",
    "            score = cross_val_score(model, X, y, cv = None, scoring = metric, n_jobs= -1)\n",
    "            print(score)\n",
    "            mean_score.append(np.mean(score))\n",
    "    \n",
    "    \n",
    "        tmp = pd.DataFrame({name: mean_score}, index = score_list)\n",
    "        \n",
    "            \n",
    "            \n",
    "        ldf.append(tmp)\n",
    "        \n",
    "        \n",
    "        mean_score = list()\n",
    "        \n",
    "    frame_scores = reduce(lambda x,y: pd.merge(x,y, left_index = True, right_index = True), ldf).T\n",
    "        \n",
    "    \n",
    "    \n",
    "    fig, ax  = plt.subplots(1,1, figsize = (10,5))\n",
    "\n",
    "    frame_scores.plot.bar(ax = ax, cmap = 'RdYlBu', edgecolor = \"black\")\n",
    "    ax.legend(loc = 'best')\n",
    "    ax.set_xlabel(\"Score\")\n",
    "    ax.set_title(\"Cross validation model benchmark\")\n",
    "\n",
    "    if return_scores:    \n",
    "        return frame_scores"
   ]
  },
  {
   "cell_type": "code",
   "execution_count": 21,
   "metadata": {},
   "outputs": [
    {
     "name": "stdout",
     "output_type": "stream",
     "text": [
      "[nan nan nan nan nan]\n",
      "[0.6626087  0.67478261 0.68989547 0.69163763 0.6533101 ]\n",
      "[nan nan nan nan nan]\n",
      "[nan nan nan nan nan]\n",
      "[nan nan nan nan nan]\n",
      "[nan nan nan nan nan]\n",
      "[0.75652174 0.77217391 0.77526132 0.77351916 0.79616725]\n",
      "[nan nan nan nan nan]\n",
      "[nan nan nan nan nan]\n",
      "[nan nan nan nan nan]\n",
      "[nan nan nan nan nan]\n",
      "[0.74956522 0.78086957 0.81184669 0.77874564 0.80139373]\n",
      "[nan nan nan nan nan]\n",
      "[nan nan nan nan nan]\n",
      "[nan nan nan nan nan]\n",
      "[nan nan nan nan nan]\n",
      "[0.64521739 0.64       0.67421603 0.63414634 0.67944251]\n",
      "[nan nan nan nan nan]\n",
      "[nan nan nan nan nan]\n",
      "[nan nan nan nan nan]\n"
     ]
    },
    {
     "data": {
      "image/png": "[encoded data removed]",
      "text/plain": [
       "<Figure size 720x360 with 1 Axes>"
      ]
     },
     "metadata": {
      "needs_background": "light"
     },
     "output_type": "display_data"
    }
   ],
   "source": [
    "models_list =[LogisticRegression(random_state= 42),\n",
    "              SVC(probability= True),\n",
    "              RandomForestClassifier(random_state = 42),\n",
    "              GaussianNB()]\n",
    "\n",
    "score_list = [\"roc_auc\", \"accuracy\", \"f1\", \"precision\", \"recall\"]\n",
    "\n",
    "t = plot_cv_score(X = X, y = y, models_list = models_list, cv = 5, scoring_list = score_list, refit = True)"
   ]
  }
 ],
 "metadata": {
  "kernelspec": {
   "display_name": "Python 3.9.12 ('base')",
   "language": "python",
   "name": "python3"
  },
  "language_info": {
   "codemirror_mode": {
    "name": "ipython",
    "version": 3
   },
   "file_extension": ".py",
   "mimetype": "text/x-python",
   "name": "python",
   "nbconvert_exporter": "python",
   "pygments_lexer": "ipython3",
   "version": "3.9.12"
  },
  "orig_nbformat": 4,
  "vscode": {
   "interpreter": {
    "hash": "e11265db24d7d7b1d9a614b6c8aed899b36881c20eb26f07e2c77f204b3164ce"
   }
  }
 },
 "nbformat": 4,
 "nbformat_minor": 2
}
