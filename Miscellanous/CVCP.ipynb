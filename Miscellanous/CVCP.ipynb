{
  "cells": [
    {
      "cell_type": "markdown",
      "metadata": {},
      "source": [
        "# SIFT"
      ]
    },
    {
      "cell_type": "code",
      "execution_count": 32,
      "metadata": {
        "id": "8MR1mw0oxNOK"
      },
      "outputs": [],
      "source": [
        "#importing libraries\n",
        "import glob\n",
        "import numpy as np\n",
        "import pandas as pd\n",
        "from sklearn.model_selection import train_test_split\n",
        "from sklearn.preprocessing import LabelEncoder,MinMaxScaler\n",
        "from sklearn.preprocessing import StandardScaler\n",
        "import matplotlib.pyplot as plt\n",
        "import seaborn as sns"
      ]
    },
    {
      "cell_type": "code",
      "execution_count": 23,
      "metadata": {
        "colab": {
          "base_uri": "https://localhost:8080/",
          "height": 74
        },
        "id": "ZVmQBV-rxPd-",
        "outputId": "797debbb-324c-4133-f3d0-c0832f549359"
      },
      "outputs": [],
      "source": [
        "\n",
        "df = pd.read_csv(\"./HoG_FeatureFinal.csv\")"
      ]
    },
    {
      "cell_type": "code",
      "execution_count": 24,
      "metadata": {
        "colab": {
          "base_uri": "https://localhost:8080/",
          "height": 424
        },
        "id": "5uqiXAvfxPg3",
        "outputId": "77086271-69ea-4a60-ef39-92c64a2c05b6"
      },
      "outputs": [
        {
          "data": {
            "text/html": [
              "<div>\n",
              "<style scoped>\n",
              "    .dataframe tbody tr th:only-of-type {\n",
              "        vertical-align: middle;\n",
              "    }\n",
              "\n",
              "    .dataframe tbody tr th {\n",
              "        vertical-align: top;\n",
              "    }\n",
              "\n",
              "    .dataframe thead th {\n",
              "        text-align: right;\n",
              "    }\n",
              "</style>\n",
              "<table border=\"1\" class=\"dataframe\">\n",
              "  <thead>\n",
              "    <tr style=\"text-align: right;\">\n",
              "      <th></th>\n",
              "      <th>0</th>\n",
              "      <th>1</th>\n",
              "      <th>2</th>\n",
              "      <th>3</th>\n",
              "      <th>4</th>\n",
              "      <th>Class</th>\n",
              "    </tr>\n",
              "  </thead>\n",
              "  <tbody>\n",
              "    <tr>\n",
              "      <th>0</th>\n",
              "      <td>0</td>\n",
              "      <td>0</td>\n",
              "      <td>0</td>\n",
              "      <td>1</td>\n",
              "      <td>0</td>\n",
              "      <td>0</td>\n",
              "    </tr>\n",
              "    <tr>\n",
              "      <th>1</th>\n",
              "      <td>0</td>\n",
              "      <td>0</td>\n",
              "      <td>0</td>\n",
              "      <td>1</td>\n",
              "      <td>0</td>\n",
              "      <td>0</td>\n",
              "    </tr>\n",
              "    <tr>\n",
              "      <th>2</th>\n",
              "      <td>0</td>\n",
              "      <td>1</td>\n",
              "      <td>0</td>\n",
              "      <td>0</td>\n",
              "      <td>0</td>\n",
              "      <td>0</td>\n",
              "    </tr>\n",
              "    <tr>\n",
              "      <th>3</th>\n",
              "      <td>0</td>\n",
              "      <td>0</td>\n",
              "      <td>0</td>\n",
              "      <td>0</td>\n",
              "      <td>1</td>\n",
              "      <td>0</td>\n",
              "    </tr>\n",
              "    <tr>\n",
              "      <th>4</th>\n",
              "      <td>0</td>\n",
              "      <td>1</td>\n",
              "      <td>0</td>\n",
              "      <td>0</td>\n",
              "      <td>0</td>\n",
              "      <td>0</td>\n",
              "    </tr>\n",
              "    <tr>\n",
              "      <th>...</th>\n",
              "      <td>...</td>\n",
              "      <td>...</td>\n",
              "      <td>...</td>\n",
              "      <td>...</td>\n",
              "      <td>...</td>\n",
              "      <td>...</td>\n",
              "    </tr>\n",
              "    <tr>\n",
              "      <th>604</th>\n",
              "      <td>0</td>\n",
              "      <td>0</td>\n",
              "      <td>0</td>\n",
              "      <td>0</td>\n",
              "      <td>1</td>\n",
              "      <td>2</td>\n",
              "    </tr>\n",
              "    <tr>\n",
              "      <th>605</th>\n",
              "      <td>0</td>\n",
              "      <td>1</td>\n",
              "      <td>0</td>\n",
              "      <td>0</td>\n",
              "      <td>0</td>\n",
              "      <td>2</td>\n",
              "    </tr>\n",
              "    <tr>\n",
              "      <th>606</th>\n",
              "      <td>0</td>\n",
              "      <td>1</td>\n",
              "      <td>0</td>\n",
              "      <td>0</td>\n",
              "      <td>0</td>\n",
              "      <td>2</td>\n",
              "    </tr>\n",
              "    <tr>\n",
              "      <th>607</th>\n",
              "      <td>0</td>\n",
              "      <td>0</td>\n",
              "      <td>0</td>\n",
              "      <td>0</td>\n",
              "      <td>1</td>\n",
              "      <td>2</td>\n",
              "    </tr>\n",
              "    <tr>\n",
              "      <th>608</th>\n",
              "      <td>0</td>\n",
              "      <td>1</td>\n",
              "      <td>0</td>\n",
              "      <td>0</td>\n",
              "      <td>0</td>\n",
              "      <td>2</td>\n",
              "    </tr>\n",
              "  </tbody>\n",
              "</table>\n",
              "<p>609 rows × 6 columns</p>\n",
              "</div>"
            ],
            "text/plain": [
              "     0  1  2  3  4  Class\n",
              "0    0  0  0  1  0      0\n",
              "1    0  0  0  1  0      0\n",
              "2    0  1  0  0  0      0\n",
              "3    0  0  0  0  1      0\n",
              "4    0  1  0  0  0      0\n",
              "..  .. .. .. .. ..    ...\n",
              "604  0  0  0  0  1      2\n",
              "605  0  1  0  0  0      2\n",
              "606  0  1  0  0  0      2\n",
              "607  0  0  0  0  1      2\n",
              "608  0  1  0  0  0      2\n",
              "\n",
              "[609 rows x 6 columns]"
            ]
          },
          "execution_count": 24,
          "metadata": {},
          "output_type": "execute_result"
        }
      ],
      "source": [
        "df"
      ]
    },
    {
      "cell_type": "code",
      "execution_count": 25,
      "metadata": {
        "id": "0QQLI2qT1-lT"
      },
      "outputs": [
        {
          "data": {
            "text/plain": [
              "0      0\n",
              "1      0\n",
              "2      0\n",
              "3      0\n",
              "4      0\n",
              "      ..\n",
              "604    2\n",
              "605    2\n",
              "606    2\n",
              "607    2\n",
              "608    2\n",
              "Name: Class, Length: 609, dtype: int64"
            ]
          },
          "execution_count": 25,
          "metadata": {},
          "output_type": "execute_result"
        }
      ],
      "source": [
        "#replace No Otherlang and Otherlang to 0 and 1\n",
        "\n",
        "df['Class']"
      ]
    },
    {
      "cell_type": "code",
      "execution_count": 26,
      "metadata": {
        "id": "0xuV3fPdxPja"
      },
      "outputs": [],
      "source": [
        "rows,columns=df.shape"
      ]
    },
    {
      "cell_type": "code",
      "execution_count": 27,
      "metadata": {
        "colab": {
          "base_uri": "https://localhost:8080/"
        },
        "id": "yZqgxBt4xPmG",
        "outputId": "a643e723-bc77-4edc-862d-2c3334c57018"
      },
      "outputs": [
        {
          "data": {
            "text/plain": [
              "(609, 6)"
            ]
          },
          "execution_count": 27,
          "metadata": {},
          "output_type": "execute_result"
        }
      ],
      "source": [
        "df.shape"
      ]
    },
    {
      "cell_type": "code",
      "execution_count": 28,
      "metadata": {
        "colab": {
          "base_uri": "https://localhost:8080/",
          "height": 206
        },
        "id": "uK1G52bRxPo8",
        "outputId": "d36ef7b6-3ee4-4074-dc92-4f0da40b43a9"
      },
      "outputs": [
        {
          "data": {
            "text/html": [
              "<div>\n",
              "<style scoped>\n",
              "    .dataframe tbody tr th:only-of-type {\n",
              "        vertical-align: middle;\n",
              "    }\n",
              "\n",
              "    .dataframe tbody tr th {\n",
              "        vertical-align: top;\n",
              "    }\n",
              "\n",
              "    .dataframe thead th {\n",
              "        text-align: right;\n",
              "    }\n",
              "</style>\n",
              "<table border=\"1\" class=\"dataframe\">\n",
              "  <thead>\n",
              "    <tr style=\"text-align: right;\">\n",
              "      <th></th>\n",
              "      <th>0</th>\n",
              "      <th>1</th>\n",
              "      <th>2</th>\n",
              "      <th>3</th>\n",
              "      <th>4</th>\n",
              "      <th>Class</th>\n",
              "    </tr>\n",
              "  </thead>\n",
              "  <tbody>\n",
              "    <tr>\n",
              "      <th>0</th>\n",
              "      <td>0</td>\n",
              "      <td>0</td>\n",
              "      <td>0</td>\n",
              "      <td>1</td>\n",
              "      <td>0</td>\n",
              "      <td>0</td>\n",
              "    </tr>\n",
              "    <tr>\n",
              "      <th>1</th>\n",
              "      <td>0</td>\n",
              "      <td>0</td>\n",
              "      <td>0</td>\n",
              "      <td>1</td>\n",
              "      <td>0</td>\n",
              "      <td>0</td>\n",
              "    </tr>\n",
              "    <tr>\n",
              "      <th>2</th>\n",
              "      <td>0</td>\n",
              "      <td>1</td>\n",
              "      <td>0</td>\n",
              "      <td>0</td>\n",
              "      <td>0</td>\n",
              "      <td>0</td>\n",
              "    </tr>\n",
              "    <tr>\n",
              "      <th>3</th>\n",
              "      <td>0</td>\n",
              "      <td>0</td>\n",
              "      <td>0</td>\n",
              "      <td>0</td>\n",
              "      <td>1</td>\n",
              "      <td>0</td>\n",
              "    </tr>\n",
              "    <tr>\n",
              "      <th>4</th>\n",
              "      <td>0</td>\n",
              "      <td>1</td>\n",
              "      <td>0</td>\n",
              "      <td>0</td>\n",
              "      <td>0</td>\n",
              "      <td>0</td>\n",
              "    </tr>\n",
              "  </tbody>\n",
              "</table>\n",
              "</div>"
            ],
            "text/plain": [
              "   0  1  2  3  4  Class\n",
              "0  0  0  0  1  0      0\n",
              "1  0  0  0  1  0      0\n",
              "2  0  1  0  0  0      0\n",
              "3  0  0  0  0  1      0\n",
              "4  0  1  0  0  0      0"
            ]
          },
          "execution_count": 28,
          "metadata": {},
          "output_type": "execute_result"
        }
      ],
      "source": [
        "df.head()"
      ]
    },
    {
      "cell_type": "code",
      "execution_count": 29,
      "metadata": {
        "colab": {
          "base_uri": "https://localhost:8080/"
        },
        "id": "30IEgr-pxPrj",
        "outputId": "18e47a91-ce4a-4d97-bd2c-bc671fe101ad"
      },
      "outputs": [
        {
          "data": {
            "text/plain": [
              "False"
            ]
          },
          "execution_count": 29,
          "metadata": {},
          "output_type": "execute_result"
        }
      ],
      "source": [
        "#Check for NaN under a single DataFrame column\n",
        "df.isnull().values.any()"
      ]
    },
    {
      "cell_type": "code",
      "execution_count": 30,
      "metadata": {
        "colab": {
          "base_uri": "https://localhost:8080/",
          "height": 300
        },
        "id": "TjE21x4NxPuH",
        "outputId": "7e17db63-159d-472f-8b31-fb99ae99ebae"
      },
      "outputs": [
        {
          "data": {
            "text/html": [
              "<div>\n",
              "<style scoped>\n",
              "    .dataframe tbody tr th:only-of-type {\n",
              "        vertical-align: middle;\n",
              "    }\n",
              "\n",
              "    .dataframe tbody tr th {\n",
              "        vertical-align: top;\n",
              "    }\n",
              "\n",
              "    .dataframe thead th {\n",
              "        text-align: right;\n",
              "    }\n",
              "</style>\n",
              "<table border=\"1\" class=\"dataframe\">\n",
              "  <thead>\n",
              "    <tr style=\"text-align: right;\">\n",
              "      <th></th>\n",
              "      <th>0</th>\n",
              "      <th>1</th>\n",
              "      <th>2</th>\n",
              "      <th>3</th>\n",
              "      <th>4</th>\n",
              "      <th>Class</th>\n",
              "    </tr>\n",
              "  </thead>\n",
              "  <tbody>\n",
              "    <tr>\n",
              "      <th>count</th>\n",
              "      <td>609.000000</td>\n",
              "      <td>609.000000</td>\n",
              "      <td>609.000000</td>\n",
              "      <td>609.000000</td>\n",
              "      <td>609.000000</td>\n",
              "      <td>609.000000</td>\n",
              "    </tr>\n",
              "    <tr>\n",
              "      <th>mean</th>\n",
              "      <td>0.320197</td>\n",
              "      <td>0.305419</td>\n",
              "      <td>0.029557</td>\n",
              "      <td>0.073892</td>\n",
              "      <td>0.270936</td>\n",
              "      <td>1.226601</td>\n",
              "    </tr>\n",
              "    <tr>\n",
              "      <th>std</th>\n",
              "      <td>0.466936</td>\n",
              "      <td>0.460963</td>\n",
              "      <td>0.169500</td>\n",
              "      <td>0.261809</td>\n",
              "      <td>0.444808</td>\n",
              "      <td>0.735305</td>\n",
              "    </tr>\n",
              "    <tr>\n",
              "      <th>min</th>\n",
              "      <td>0.000000</td>\n",
              "      <td>0.000000</td>\n",
              "      <td>0.000000</td>\n",
              "      <td>0.000000</td>\n",
              "      <td>0.000000</td>\n",
              "      <td>0.000000</td>\n",
              "    </tr>\n",
              "    <tr>\n",
              "      <th>25%</th>\n",
              "      <td>0.000000</td>\n",
              "      <td>0.000000</td>\n",
              "      <td>0.000000</td>\n",
              "      <td>0.000000</td>\n",
              "      <td>0.000000</td>\n",
              "      <td>1.000000</td>\n",
              "    </tr>\n",
              "    <tr>\n",
              "      <th>50%</th>\n",
              "      <td>0.000000</td>\n",
              "      <td>0.000000</td>\n",
              "      <td>0.000000</td>\n",
              "      <td>0.000000</td>\n",
              "      <td>0.000000</td>\n",
              "      <td>1.000000</td>\n",
              "    </tr>\n",
              "    <tr>\n",
              "      <th>75%</th>\n",
              "      <td>1.000000</td>\n",
              "      <td>1.000000</td>\n",
              "      <td>0.000000</td>\n",
              "      <td>0.000000</td>\n",
              "      <td>1.000000</td>\n",
              "      <td>2.000000</td>\n",
              "    </tr>\n",
              "    <tr>\n",
              "      <th>max</th>\n",
              "      <td>1.000000</td>\n",
              "      <td>1.000000</td>\n",
              "      <td>1.000000</td>\n",
              "      <td>1.000000</td>\n",
              "      <td>1.000000</td>\n",
              "      <td>2.000000</td>\n",
              "    </tr>\n",
              "  </tbody>\n",
              "</table>\n",
              "</div>"
            ],
            "text/plain": [
              "                0           1           2           3           4       Class\n",
              "count  609.000000  609.000000  609.000000  609.000000  609.000000  609.000000\n",
              "mean     0.320197    0.305419    0.029557    0.073892    0.270936    1.226601\n",
              "std      0.466936    0.460963    0.169500    0.261809    0.444808    0.735305\n",
              "min      0.000000    0.000000    0.000000    0.000000    0.000000    0.000000\n",
              "25%      0.000000    0.000000    0.000000    0.000000    0.000000    1.000000\n",
              "50%      0.000000    0.000000    0.000000    0.000000    0.000000    1.000000\n",
              "75%      1.000000    1.000000    0.000000    0.000000    1.000000    2.000000\n",
              "max      1.000000    1.000000    1.000000    1.000000    1.000000    2.000000"
            ]
          },
          "execution_count": 30,
          "metadata": {},
          "output_type": "execute_result"
        }
      ],
      "source": [
        "# statistical measures about the data\n",
        "df.describe()"
      ]
    },
    {
      "cell_type": "code",
      "execution_count": 33,
      "metadata": {
        "colab": {
          "base_uri": "https://localhost:8080/",
          "height": 334
        },
        "id": "VQeSN3I_xPwm",
        "outputId": "e78df858-faac-407a-b84c-f5000d411db3"
      },
      "outputs": [
        {
          "data": {
            "text/plain": [
              "1    249\n",
              "2    249\n",
              "0    111\n",
              "Name: Class, dtype: int64"
            ]
          },
          "execution_count": 33,
          "metadata": {},
          "output_type": "execute_result"
        },
        {
          "data": {
            "image/png": "[encoded data removed]",
            "text/plain": [
              "<Figure size 432x288 with 1 Axes>"
            ]
          },
          "metadata": {
            "needs_background": "light"
          },
          "output_type": "display_data"
        }
      ],
      "source": [
        "ax=sns.countplot(x='Class',data=df)\n",
        "\n",
        "df['Class'].value_counts()"
      ]
    },
    {
      "cell_type": "code",
      "execution_count": 34,
      "metadata": {
        "id": "WFleskAZytST"
      },
      "outputs": [],
      "source": [
        "target='Class'"
      ]
    },
    {
      "cell_type": "code",
      "execution_count": 93,
      "metadata": {
        "id": "LXu9YAWi056c"
      },
      "outputs": [],
      "source": []
    },
    {
      "cell_type": "code",
      "execution_count": 35,
      "metadata": {
        "colab": {
          "base_uri": "https://localhost:8080/"
        },
        "id": "ZyME2JHlytf2",
        "outputId": "6c3e35be-c321-4ae8-e0d4-bb8f3f5ef686"
      },
      "outputs": [
        {
          "name": "stdout",
          "output_type": "stream",
          "text": [
            "Before Undersampling\n"
          ]
        },
        {
          "data": {
            "text/plain": [
              "1    249\n",
              "2    249\n",
              "0    111\n",
              "Name: Class, dtype: int64"
            ]
          },
          "execution_count": 35,
          "metadata": {},
          "output_type": "execute_result"
        }
      ],
      "source": [
        "#train with handling imbalanced data using Near miss\n",
        "print(\"Before Undersampling\")\n",
        "df['Class'].value_counts()"
      ]
    },
    {
      "cell_type": "code",
      "execution_count": 36,
      "metadata": {
        "colab": {
          "base_uri": "https://localhost:8080/"
        },
        "id": "0bT0IsLIytkn",
        "outputId": "0a27f7b4-152f-4f2e-8f51-e18ed509299c"
      },
      "outputs": [
        {
          "name": "stdout",
          "output_type": "stream",
          "text": [
            "111\n"
          ]
        }
      ],
      "source": [
        "minority_class_len=len(df[df[target]==0]) \n",
        "\n",
        "print(minority_class_len)"
      ]
    },
    {
      "cell_type": "code",
      "execution_count": 37,
      "metadata": {
        "colab": {
          "base_uri": "https://localhost:8080/"
        },
        "id": "80a3VDVlytm-",
        "outputId": "cb243efd-267a-4d09-b175-6e152caf5f0d"
      },
      "outputs": [
        {
          "name": "stdout",
          "output_type": "stream",
          "text": [
            "Int64Index([111, 112, 113, 114, 115, 116, 117, 118, 119, 120,\n",
            "            ...\n",
            "            350, 351, 352, 353, 354, 355, 356, 357, 358, 359],\n",
            "           dtype='int64', length=249)\n"
          ]
        }
      ],
      "source": [
        "majority_class_indices=df[df[target]==1].index\n",
        "print(majority_class_indices)"
      ]
    },
    {
      "cell_type": "code",
      "execution_count": 38,
      "metadata": {
        "colab": {
          "base_uri": "https://localhost:8080/"
        },
        "id": "HbpaReldytqR",
        "outputId": "bd488240-d21a-442f-ccd3-d799faab21c1"
      },
      "outputs": [
        {
          "name": "stdout",
          "output_type": "stream",
          "text": [
            "111\n"
          ]
        }
      ],
      "source": [
        "random_majority_indices =np.random.choice(majority_class_indices,\n",
        "                                          minority_class_len,\n",
        "                                          replace=False)\n",
        "\n",
        "print(len(random_majority_indices))"
      ]
    },
    {
      "cell_type": "code",
      "execution_count": 39,
      "metadata": {
        "colab": {
          "base_uri": "https://localhost:8080/"
        },
        "id": "exAKTzijy14B",
        "outputId": "2fc7cd4f-8020-45e2-c4cd-8463bc49ede7"
      },
      "outputs": [
        {
          "name": "stdout",
          "output_type": "stream",
          "text": [
            "111\n"
          ]
        }
      ],
      "source": [
        "random_majority_indices =np.random.choice(majority_class_indices,\n",
        "                                          minority_class_len,\n",
        "                                          replace=False)\n",
        "\n",
        "print(len(random_majority_indices))"
      ]
    },
    {
      "cell_type": "code",
      "execution_count": 40,
      "metadata": {
        "colab": {
          "base_uri": "https://localhost:8080/"
        },
        "id": "GvoAbZnMy16s",
        "outputId": "9c84d586-b2b5-48cd-b0f6-d6e15e282631"
      },
      "outputs": [
        {
          "name": "stdout",
          "output_type": "stream",
          "text": [
            "Int64Index([  0,   1,   2,   3,   4,   5,   6,   7,   8,   9,\n",
            "            ...\n",
            "            101, 102, 103, 104, 105, 106, 107, 108, 109, 110],\n",
            "           dtype='int64', length=111)\n"
          ]
        }
      ],
      "source": [
        "minority_class_indices = df[df[target]==0].index\n",
        "print(minority_class_indices)"
      ]
    },
    {
      "cell_type": "code",
      "execution_count": 41,
      "metadata": {
        "id": "yOgED4d9y19m"
      },
      "outputs": [],
      "source": [
        "\n",
        "undersample_indices = np.concatenate([minority_class_indices,random_majority_indices])"
      ]
    },
    {
      "cell_type": "code",
      "execution_count": 42,
      "metadata": {
        "id": "N9L_orX8y7Qh"
      },
      "outputs": [],
      "source": [
        "undersample = df.loc[undersample_indices]"
      ]
    },
    {
      "cell_type": "code",
      "execution_count": 43,
      "metadata": {
        "colab": {
          "base_uri": "https://localhost:8080/",
          "height": 297
        },
        "id": "OUJsqkkMy7ZD",
        "outputId": "23494d1a-9e63-4b69-f983-edb170176ce0"
      },
      "outputs": [
        {
          "data": {
            "text/plain": [
              "<AxesSubplot:xlabel='Class', ylabel='count'>"
            ]
          },
          "execution_count": 43,
          "metadata": {},
          "output_type": "execute_result"
        },
        {
          "data": {
            "image/png": "[encoded data removed]",
            "text/plain": [
              "<Figure size 432x288 with 1 Axes>"
            ]
          },
          "metadata": {
            "needs_background": "light"
          },
          "output_type": "display_data"
        }
      ],
      "source": [
        "sns.countplot(x=target,data=undersample)"
      ]
    },
    {
      "cell_type": "code",
      "execution_count": 44,
      "metadata": {
        "id": "idY1VI9Dy7cg"
      },
      "outputs": [],
      "source": [
        "df=undersample"
      ]
    },
    {
      "cell_type": "code",
      "execution_count": 45,
      "metadata": {
        "id": "W0oazzbryTFn"
      },
      "outputs": [],
      "source": [
        "X = df.drop(columns='Class', axis=1)\n",
        "Y = df['Class']"
      ]
    },
    {
      "cell_type": "code",
      "execution_count": 46,
      "metadata": {
        "colab": {
          "base_uri": "https://localhost:8080/",
          "height": 424
        },
        "id": "7dwSmSWEyYx-",
        "outputId": "a42ec4fe-bb82-41fa-9e14-092c2c36fb1f"
      },
      "outputs": [
        {
          "data": {
            "text/html": [
              "<div>\n",
              "<style scoped>\n",
              "    .dataframe tbody tr th:only-of-type {\n",
              "        vertical-align: middle;\n",
              "    }\n",
              "\n",
              "    .dataframe tbody tr th {\n",
              "        vertical-align: top;\n",
              "    }\n",
              "\n",
              "    .dataframe thead th {\n",
              "        text-align: right;\n",
              "    }\n",
              "</style>\n",
              "<table border=\"1\" class=\"dataframe\">\n",
              "  <thead>\n",
              "    <tr style=\"text-align: right;\">\n",
              "      <th></th>\n",
              "      <th>0</th>\n",
              "      <th>1</th>\n",
              "      <th>2</th>\n",
              "      <th>3</th>\n",
              "      <th>4</th>\n",
              "    </tr>\n",
              "  </thead>\n",
              "  <tbody>\n",
              "    <tr>\n",
              "      <th>0</th>\n",
              "      <td>0</td>\n",
              "      <td>0</td>\n",
              "      <td>0</td>\n",
              "      <td>1</td>\n",
              "      <td>0</td>\n",
              "    </tr>\n",
              "    <tr>\n",
              "      <th>1</th>\n",
              "      <td>0</td>\n",
              "      <td>0</td>\n",
              "      <td>0</td>\n",
              "      <td>1</td>\n",
              "      <td>0</td>\n",
              "    </tr>\n",
              "    <tr>\n",
              "      <th>2</th>\n",
              "      <td>0</td>\n",
              "      <td>1</td>\n",
              "      <td>0</td>\n",
              "      <td>0</td>\n",
              "      <td>0</td>\n",
              "    </tr>\n",
              "    <tr>\n",
              "      <th>3</th>\n",
              "      <td>0</td>\n",
              "      <td>0</td>\n",
              "      <td>0</td>\n",
              "      <td>0</td>\n",
              "      <td>1</td>\n",
              "    </tr>\n",
              "    <tr>\n",
              "      <th>4</th>\n",
              "      <td>0</td>\n",
              "      <td>1</td>\n",
              "      <td>0</td>\n",
              "      <td>0</td>\n",
              "      <td>0</td>\n",
              "    </tr>\n",
              "    <tr>\n",
              "      <th>...</th>\n",
              "      <td>...</td>\n",
              "      <td>...</td>\n",
              "      <td>...</td>\n",
              "      <td>...</td>\n",
              "      <td>...</td>\n",
              "    </tr>\n",
              "    <tr>\n",
              "      <th>254</th>\n",
              "      <td>0</td>\n",
              "      <td>0</td>\n",
              "      <td>0</td>\n",
              "      <td>0</td>\n",
              "      <td>1</td>\n",
              "    </tr>\n",
              "    <tr>\n",
              "      <th>233</th>\n",
              "      <td>1</td>\n",
              "      <td>0</td>\n",
              "      <td>0</td>\n",
              "      <td>0</td>\n",
              "      <td>0</td>\n",
              "    </tr>\n",
              "    <tr>\n",
              "      <th>302</th>\n",
              "      <td>0</td>\n",
              "      <td>0</td>\n",
              "      <td>0</td>\n",
              "      <td>0</td>\n",
              "      <td>1</td>\n",
              "    </tr>\n",
              "    <tr>\n",
              "      <th>355</th>\n",
              "      <td>0</td>\n",
              "      <td>1</td>\n",
              "      <td>0</td>\n",
              "      <td>0</td>\n",
              "      <td>0</td>\n",
              "    </tr>\n",
              "    <tr>\n",
              "      <th>196</th>\n",
              "      <td>0</td>\n",
              "      <td>0</td>\n",
              "      <td>0</td>\n",
              "      <td>0</td>\n",
              "      <td>1</td>\n",
              "    </tr>\n",
              "  </tbody>\n",
              "</table>\n",
              "<p>222 rows × 5 columns</p>\n",
              "</div>"
            ],
            "text/plain": [
              "     0  1  2  3  4\n",
              "0    0  0  0  1  0\n",
              "1    0  0  0  1  0\n",
              "2    0  1  0  0  0\n",
              "3    0  0  0  0  1\n",
              "4    0  1  0  0  0\n",
              "..  .. .. .. .. ..\n",
              "254  0  0  0  0  1\n",
              "233  1  0  0  0  0\n",
              "302  0  0  0  0  1\n",
              "355  0  1  0  0  0\n",
              "196  0  0  0  0  1\n",
              "\n",
              "[222 rows x 5 columns]"
            ]
          },
          "execution_count": 46,
          "metadata": {},
          "output_type": "execute_result"
        }
      ],
      "source": [
        "X"
      ]
    },
    {
      "cell_type": "code",
      "execution_count": 47,
      "metadata": {
        "colab": {
          "base_uri": "https://localhost:8080/"
        },
        "id": "h5S3d9PtyY0N",
        "outputId": "874c32cb-9be7-4d14-c50b-a50523b46435"
      },
      "outputs": [
        {
          "data": {
            "text/plain": [
              "0      0\n",
              "1      0\n",
              "2      0\n",
              "3      0\n",
              "4      0\n",
              "      ..\n",
              "254    1\n",
              "233    1\n",
              "302    1\n",
              "355    1\n",
              "196    1\n",
              "Name: Class, Length: 222, dtype: int64"
            ]
          },
          "execution_count": 47,
          "metadata": {},
          "output_type": "execute_result"
        }
      ],
      "source": [
        "Y"
      ]
    },
    {
      "cell_type": "code",
      "execution_count": 48,
      "metadata": {
        "colab": {
          "base_uri": "https://localhost:8080/"
        },
        "id": "eO9bfethyY2q",
        "outputId": "1d48d8a9-0450-4cd6-9606-9b78ae90d7a9"
      },
      "outputs": [
        {
          "name": "stdout",
          "output_type": "stream",
          "text": [
            "Number transactions X_train dataset:  (155, 5)\n",
            "Number transactions y_train dataset:  (155,)\n",
            "Number transactions X_test dataset:  (67, 5)\n",
            "Number transactions y_test dataset:  (67,)\n"
          ]
        }
      ],
      "source": [
        "X_train,X_test,Y_train,Y_test = train_test_split(X,Y,\n",
        "                                                 test_size=0.3, random_state = 0)\n",
        "# describes info about train and test set\n",
        "print(\"Number transactions X_train dataset: \", X_train.shape)\n",
        "print(\"Number transactions y_train dataset: \", Y_train.shape)\n",
        "print(\"Number transactions X_test dataset: \", X_test.shape)\n",
        "print(\"Number transactions y_test dataset: \", Y_test.shape)"
      ]
    },
    {
      "cell_type": "code",
      "execution_count": 49,
      "metadata": {
        "colab": {
          "base_uri": "https://localhost:8080/"
        },
        "id": "OckkAlBW35P-",
        "outputId": "ec39d4c1-765c-465b-8e7e-371b0476b5fb"
      },
      "outputs": [
        {
          "name": "stdout",
          "output_type": "stream",
          "text": [
            "(222, 5)\n",
            "(155, 5)\n",
            "(67, 5)\n"
          ]
        }
      ],
      "source": [
        "print(X.shape) \n",
        "print(X_train.shape)\n",
        "print(X_test.shape)"
      ]
    },
    {
      "cell_type": "code",
      "execution_count": 50,
      "metadata": {
        "id": "DOSLIl5syY7X"
      },
      "outputs": [],
      "source": [
        "from sklearn.linear_model import LogisticRegression \n",
        "from sklearn.ensemble import RandomForestClassifier\n",
        "from sklearn.svm import SVC\n",
        "from sklearn.model_selection import cross_val_score\n",
        "from sklearn.metrics import accuracy_score,f1_score, classification_report, confusion_matrix , accuracy_score, precision_score, recall_score, f1_score, roc_curve ,roc_auc_score,plot_confusion_matrix"
      ]
    },
    {
      "cell_type": "code",
      "execution_count": 51,
      "metadata": {
        "colab": {
          "base_uri": "https://localhost:8080/",
          "height": 905
        },
        "id": "wsK-98zayZAT",
        "outputId": "4541072c-5e63-440e-94ca-726054faa572"
      },
      "outputs": [
        {
          "name": "stderr",
          "output_type": "stream",
          "text": [
            "c:\\Users\\sumit\\anaconda3\\lib\\site-packages\\sklearn\\utils\\deprecation.py:87: FutureWarning: Function plot_confusion_matrix is deprecated; Function `plot_confusion_matrix` is deprecated in 1.0 and will be removed in 1.2. Use one of the class methods: ConfusionMatrixDisplay.from_predictions or ConfusionMatrixDisplay.from_estimator.\n",
            "  warnings.warn(msg, category=FutureWarning)\n"
          ]
        },
        {
          "data": {
            "image/png": "[encoded data removed]",
            "text/plain": [
              "<Figure size 432x288 with 2 Axes>"
            ]
          },
          "metadata": {
            "needs_background": "light"
          },
          "output_type": "display_data"
        },
        {
          "name": "stdout",
          "output_type": "stream",
          "text": [
            "\n",
            "Results obtained for the logistic regression on undersampled/balanced data\n",
            "\n",
            "Results obtained on Training Data\n",
            "Accuracy on Train data :  0.6\n",
            "Presion : 0.7215189873417721\n",
            "Recall : 0.5876288659793815\n",
            "F1 score :  0.6477272727272727\n",
            "\n",
            "Results obtained on Testing Data\n",
            "Accuracy on Test data :  0.6417910447761194\n",
            "Presion : 0.8125\n",
            "Recall : 0.5909090909090909\n",
            "F1 score :  0.6842105263157896\n",
            "\n",
            "\n"
          ]
        },
        {
          "data": {
            "image/png": "[encoded data removed]",
            "text/plain": [
              "<Figure size 432x288 with 1 Axes>"
            ]
          },
          "metadata": {
            "needs_background": "light"
          },
          "output_type": "display_data"
        }
      ],
      "source": [
        "model = LogisticRegression(solver= 'liblinear')\n",
        "model.fit(X_train,Y_train)\n",
        "\n",
        "## produce a confusion matrix ##\n",
        "plot_confusion_matrix(model, X_test, Y_test)  \n",
        "plt.show() \n",
        "\n",
        "# accuracy on training data\n",
        "X_train_prediction = model.predict(X_train)\n",
        "train_data_accuracy = accuracy_score(X_train_prediction ,Y_train)\n",
        "\n",
        "print('\\nResults obtained for the logistic regression on undersampled/balanced data')\n",
        "\n",
        "print('\\nResults obtained on Training Data')\n",
        "\n",
        "print('Accuracy on Train data : ', train_data_accuracy)\n",
        "\n",
        "print('Presion :',precision_score(X_train_prediction,Y_train))\n",
        "\n",
        "print('Recall :',recall_score(X_train_prediction,Y_train))\n",
        "\n",
        "print('F1 score : ', f1_score(X_train_prediction,Y_train))\n",
        "\n",
        "# Accuracy on test data\n",
        "X_test_prediction = model.predict(X_test)\n",
        "test_data_accuracy = accuracy_score(X_test_prediction, Y_test)\n",
        "\n",
        "\n",
        "print('\\nResults obtained on Testing Data')\n",
        "\n",
        "print('Accuracy on Test data : ', test_data_accuracy)\n",
        "\n",
        "print('Presion :',precision_score(X_test_prediction,Y_test))\n",
        "\n",
        "print('Recall :',recall_score(X_test_prediction,Y_test))\n",
        "\n",
        "print('F1 score : ', f1_score(X_test_prediction,Y_test))\n",
        "\n",
        "print('\\n')\n",
        "\n",
        "## produce a ROC plot ##\n",
        "#obtain prediction probabilities\n",
        "y_prob = model.predict_proba(X_test)\n",
        "#calculate false & true positive rates\n",
        "fpr,tpr,_ = roc_curve(Y_test, y_prob[:,1])\n",
        "#construct plot\n",
        "plt.plot(fpr,tpr)\n",
        "plt.title('Receiver Operating Characteristic')\n",
        "plt.plot([0, 1], ls=\"--\")\n",
        "plt.plot([0, 0], [1, 0] , c=\".8\"), plt.plot([1, 1] , c=\".8\")\n",
        "plt.ylabel('True Positive Rate')\n",
        "plt.xlabel('False Positive Rate')\n",
        "plt.show()"
      ]
    },
    {
      "cell_type": "code",
      "execution_count": 52,
      "metadata": {
        "colab": {
          "base_uri": "https://localhost:8080/",
          "height": 481
        },
        "id": "uVU-RGKgyZBj",
        "outputId": "6ff21da9-9932-439e-8c1d-39c74242080d"
      },
      "outputs": [
        {
          "name": "stderr",
          "output_type": "stream",
          "text": [
            "c:\\Users\\sumit\\anaconda3\\lib\\site-packages\\sklearn\\utils\\deprecation.py:87: FutureWarning: Function plot_confusion_matrix is deprecated; Function `plot_confusion_matrix` is deprecated in 1.0 and will be removed in 1.2. Use one of the class methods: ConfusionMatrixDisplay.from_predictions or ConfusionMatrixDisplay.from_estimator.\n",
            "  warnings.warn(msg, category=FutureWarning)\n"
          ]
        },
        {
          "data": {
            "image/png": "[encoded data removed]",
            "text/plain": [
              "<Figure size 432x288 with 2 Axes>"
            ]
          },
          "metadata": {
            "needs_background": "light"
          },
          "output_type": "display_data"
        },
        {
          "name": "stdout",
          "output_type": "stream",
          "text": [
            "Accuracy on Train data :  0.6\n",
            "Presion : 0.7215189873417721\n",
            "Recall : 0.5876288659793815\n",
            "F1 score :  0.6477272727272727\n",
            "Accuracy on Test data :  0.6417910447761194\n",
            "Presion : 0.8125\n",
            "Recall : 0.5909090909090909\n",
            "F1 score :  0.6842105263157896\n"
          ]
        }
      ],
      "source": [
        "modelSVM=SVC(kernel='poly')\n",
        "modelSVM.fit(X_train, Y_train)\n",
        "\n",
        "## produce a confusion matrix ##\n",
        "plot_confusion_matrix(modelSVM, X_test, Y_test)  \n",
        "plt.show() \n",
        "\n",
        "# accuracy on training data\n",
        "X_train_prediction = modelSVM.predict(X_train)\n",
        "train_data_accuracy = accuracy_score(X_train_prediction ,Y_train)\n",
        "\n",
        "print('Accuracy on Train data : ', train_data_accuracy)\n",
        "\n",
        "print('Presion :',precision_score(X_train_prediction,Y_train))\n",
        "\n",
        "print('Recall :',recall_score(X_train_prediction,Y_train))\n",
        "\n",
        "print('F1 score : ', f1_score(X_train_prediction,Y_train))\n",
        "\n",
        "# accuracy on test data\n",
        "X_test_prediction = modelSVM.predict(X_test)\n",
        "test_data_accuracy = accuracy_score(X_test_prediction, Y_test)\n",
        "\n",
        "print('Accuracy on Test data : ', test_data_accuracy)\n",
        "\n",
        "print('Presion :',precision_score(X_test_prediction,Y_test))\n",
        "\n",
        "print('Recall :',recall_score(X_test_prediction,Y_test))\n",
        "\n",
        "print('F1 score : ', f1_score(X_test_prediction,Y_test))"
      ]
    },
    {
      "cell_type": "code",
      "execution_count": 53,
      "metadata": {
        "colab": {
          "base_uri": "https://localhost:8080/",
          "height": 762
        },
        "id": "81W8WuTEyZE3",
        "outputId": "1a6a1207-3175-4691-d6c7-a674ee673e60"
      },
      "outputs": [
        {
          "name": "stderr",
          "output_type": "stream",
          "text": [
            "c:\\Users\\sumit\\anaconda3\\lib\\site-packages\\sklearn\\utils\\deprecation.py:87: FutureWarning: Function plot_confusion_matrix is deprecated; Function `plot_confusion_matrix` is deprecated in 1.0 and will be removed in 1.2. Use one of the class methods: ConfusionMatrixDisplay.from_predictions or ConfusionMatrixDisplay.from_estimator.\n",
            "  warnings.warn(msg, category=FutureWarning)\n"
          ]
        },
        {
          "data": {
            "image/png": "[encoded data removed]",
            "text/plain": [
              "<Figure size 432x288 with 2 Axes>"
            ]
          },
          "metadata": {
            "needs_background": "light"
          },
          "output_type": "display_data"
        },
        {
          "name": "stdout",
          "output_type": "stream",
          "text": [
            "Accuracy on Train data :  0.6\n",
            "Presion : 0.7215189873417721\n",
            "Recall : 0.5876288659793815\n",
            "F1 score :  0.6477272727272727\n",
            "Accuracy on Test data :  0.6417910447761194\n",
            "Presion : 0.8125\n",
            "Recall : 0.5909090909090909\n",
            "F1 score :  0.6842105263157896\n"
          ]
        },
        {
          "data": {
            "image/png": "[encoded data removed]",
            "text/plain": [
              "<Figure size 432x288 with 1 Axes>"
            ]
          },
          "metadata": {
            "needs_background": "light"
          },
          "output_type": "display_data"
        }
      ],
      "source": [
        "modelRF = RandomForestClassifier()\n",
        "modelRF.fit(X_train,Y_train)\n",
        "\n",
        "## produce a confusion matrix ##\n",
        "plot_confusion_matrix(modelRF, X_test, Y_test)  \n",
        "plt.show() \n",
        "\n",
        "# accuracy on training data\n",
        "X_train_prediction = modelRF.predict(X_train)\n",
        "train_data_accuracy = accuracy_score(X_train_prediction ,Y_train)\n",
        "\n",
        "print('Accuracy on Train data : ', train_data_accuracy)\n",
        "\n",
        "print('Presion :',precision_score(X_train_prediction,Y_train))\n",
        "\n",
        "print('Recall :',recall_score(X_train_prediction,Y_train))\n",
        "\n",
        "print('F1 score : ', f1_score(X_train_prediction,Y_train))\n",
        "\n",
        "# accuracy on test data\n",
        "X_test_prediction = modelRF.predict(X_test)\n",
        "test_data_accuracy = accuracy_score(X_test_prediction, Y_test)\n",
        "\n",
        "print('Accuracy on Test data : ', test_data_accuracy)\n",
        "\n",
        "print('Presion :',precision_score(X_test_prediction,Y_test))\n",
        "\n",
        "print('Recall :',recall_score(X_test_prediction,Y_test))\n",
        "\n",
        "print('F1 score : ', f1_score(X_test_prediction,Y_test))\n",
        "\n",
        "## produce a ROC plot ##\n",
        "#obtain prediction probabilities\n",
        "y_prob = modelRF.predict_proba(X_test)\n",
        "#calculate false & true positive rates\n",
        "fpr,tpr,_ = roc_curve(Y_test, y_prob[:,1])\n",
        "#construct plot\n",
        "plt.plot(fpr,tpr)\n",
        "plt.title('Receiver Operating Characteristic')\n",
        "plt.plot([0, 1], ls=\"--\")\n",
        "plt.plot([0, 0], [1, 0] , c=\".8\"), plt.plot([1, 1] , c=\".8\")\n",
        "plt.ylabel('True Positive Rate')\n",
        "plt.xlabel('False Positive Rate')\n",
        "plt.show()"
      ]
    },
    {
      "cell_type": "markdown",
      "metadata": {},
      "source": [
        "# HoG"
      ]
    },
    {
      "cell_type": "code",
      "execution_count": 16,
      "metadata": {},
      "outputs": [],
      "source": [
        "import cv2\n",
        "import numpy as np\n",
        "import matplotlib.pyplot as plt\n",
        "from skimage import feature, exposure\n",
        "import pandas as pd\n",
        "import os\n",
        "from sklearn.cluster import KMeans"
      ]
    },
    {
      "cell_type": "code",
      "execution_count": 12,
      "metadata": {},
      "outputs": [],
      "source": [
        "temp = ['Bowlegs', 'Knock Knees', 'Normal Knee']\n",
        "for j in temp:\n",
        "    for filename in os.listdir('./train/Preprocessed/' + j):\n",
        "        img = cv2.resize(cv2.imread('./train/Preprocessed/' + j + '/' + filename, 0), (256, 256))\n",
        "        #initialise HoG descriptor\n",
        "        cell_size = (32, 32)  # h x w in pixels\n",
        "        block_size = (2, 2)  # h x w in cells\n",
        "        nbins = 9  # number of orientation bins\n",
        "\n",
        "\n",
        "        # winSize is the size of the image cropped to an multiple of the cell size\n",
        "        # cell_size is the size of the cells of the img patch over which to calculate the histograms\n",
        "        # block_size is the number of cells which fit in the patch\n",
        "\n",
        "        hog = cv2.HOGDescriptor(_winSize=(img.shape[1] // cell_size[1] * cell_size[1],\n",
        "                                        img.shape[0] // cell_size[0] * cell_size[0]),\n",
        "                    _blockSize=(block_size[1] * cell_size[1],\n",
        "                                block_size[0] * cell_size[0]),\n",
        "                    _blockStride=(cell_size[1], cell_size[0]),\n",
        "                    _cellSize=(cell_size[1], cell_size[0]),\n",
        "                    _nbins=nbins)\n",
        "\n",
        "\n",
        "        descriptor = hog.compute(img)\n",
        "        out=pd.DataFrame(descriptor)\n",
        "\n",
        "        #drop first coloumn as it's the no of feature detected. Not required.\n",
        "        #append to the csv file\n",
        "        out = out.transpose()\n",
        "        csv_data=out.to_csv('HoG_' + j + '.csv', mode='a', header=False, index=False, type = 'uint8')\n",
        "        \n"
      ]
    },
    {
      "cell_type": "code",
      "execution_count": 15,
      "metadata": {},
      "outputs": [
        {
          "data": {
            "text/plain": [
              "\"data1 = data1.astype('uint8')\\ndata2 = data2.astype('uint8')\\ndata3 = data3.astype('uint8')\""
            ]
          },
          "execution_count": 15,
          "metadata": {},
          "output_type": "execute_result"
        }
      ],
      "source": [
        "data1 = pd.read_csv('./HoG_Bowlegs.csv')\n",
        "data2 = pd.read_csv('./HoG_Knock Knees.csv')\n",
        "data3 = pd.read_csv('./HoG_Normal Knee.csv')\n",
        "\n",
        "\"\"\"data1 = data1.astype('uint8')\n",
        "data2 = data2.astype('uint8')\n",
        "data3 = data3.astype('uint8')\"\"\""
      ]
    },
    {
      "cell_type": "code",
      "execution_count": 17,
      "metadata": {},
      "outputs": [
        {
          "data": {
            "text/plain": [
              "KMeans(n_clusters=5)"
            ]
          },
          "execution_count": 17,
          "metadata": {},
          "output_type": "execute_result"
        }
      ],
      "source": [
        "#performing kmeans on each class\n",
        "#apple\n",
        "kmeans1 = KMeans(n_clusters=5)\n",
        "kmeans1.fit(data1)\n",
        "\n",
        "#mango\n",
        "kmeans2 = KMeans(n_clusters=5)\n",
        "kmeans2.fit(data2)\n",
        "\n",
        "#papaya\n",
        "kmeans3 = KMeans(n_clusters=5)\n",
        "kmeans3.fit(data3)"
      ]
    },
    {
      "cell_type": "code",
      "execution_count": 18,
      "metadata": {},
      "outputs": [
        {
          "name": "stdout",
          "output_type": "stream",
          "text": [
            "histogram of bowed\n",
            "(array([28, 30,  9, 10, 33], dtype=int64), array([0, 1, 2, 3, 4, 5])) \n",
            "\n",
            "histogram of knocked\n",
            "(array([ 6, 60, 58, 68, 56], dtype=int64), array([0, 1, 2, 3, 4, 5])) \n",
            "\n",
            "histogram of normal\n",
            "(array([68, 36, 35, 58, 51], dtype=int64), array([0, 1, 2, 3, 4, 5])) \n",
            "\n"
          ]
        }
      ],
      "source": [
        "hist1=np.histogram(kmeans1.labels_,bins=[0,1,2,3,4,5])\n",
        "hist2=np.histogram(kmeans2.labels_,bins=[0,1,2,3,4,5])\n",
        "hist3=np.histogram(kmeans3.labels_,bins=[0,1,2,3,4,5])\n",
        "\n",
        "print('histogram of bowed')\n",
        "print(hist1,\"\\n\")\n",
        "\n",
        "print('histogram of knocked')\n",
        "print(hist2,\"\\n\")\n",
        "\n",
        "print('histogram of normal')\n",
        "print(hist3,\"\\n\")"
      ]
    },
    {
      "cell_type": "code",
      "execution_count": null,
      "metadata": {},
      "outputs": [],
      "source": [
        "#performing kmeans prediction of the entire apple dataset with the pretrained kmeans model\n",
        "#initialising i=0; as its the first class\n",
        "i=0\n",
        "input0 = 'train/Preprocessed/'\n",
        "for j in temp:\n",
        "    data=[]\n",
        "    for filename in os.listdir(input0 + j):\n",
        "        path = input0 + j + '/' + filename\n",
        "        a=cv2.imread(path)\n",
        "        resize=(256,256)\n",
        "        img=cv2.resize(a,resize)\n",
        "        gray = cv2.cvtColor(img, cv2.COLOR_BGR2GRAY)\n",
        "        \n",
        "        #initialise sift descriptor\n",
        "        cell_size = (32, 32)  # h x w in pixels\n",
        "        block_size = (2, 2)  # h x w in cells\n",
        "        nbins = 9  # number of orientation bins\n",
        "\n",
        "\n",
        "        # winSize is the size of the image cropped to an multiple of the cell size\n",
        "        # cell_size is the size of the cells of the img patch over which to calculate the histograms\n",
        "        # block_size is the number of cells which fit in the patch\n",
        "\n",
        "        hog = cv2.HOGDescriptor(_winSize=(img.shape[1] // cell_size[1] * cell_size[1],\n",
        "                                        img.shape[0] // cell_size[0] * cell_size[0]),\n",
        "                    _blockSize=(block_size[1] * cell_size[1],\n",
        "                                block_size[0] * cell_size[0]),\n",
        "                    _blockStride=(cell_size[1], cell_size[0]),\n",
        "                    _cellSize=(cell_size[1], cell_size[0]),\n",
        "                    _nbins=nbins)\n",
        "\n",
        "\n",
        "        descriptor = hog.compute(img)\n",
        "        out=pd.DataFrame(descriptor)\n",
        "\n",
        "        #drop first coloumn as it's the no of feature detected. Not required.\n",
        "        #append to the csv file\n",
        "        out = out.transpose()\n",
        "        \n",
        "        #predict values of feature vector with pretrained kmeans\n",
        "        #ValueError: Buffer dtype mismatch, expected 'float' but got 'double', in order to avoid this dtype=np.double\n",
        "        array_double = np.array(out, dtype=np.double)\n",
        "\n",
        "        a=kmeans1.predict(array_double)\n",
        "        hist=np.histogram(a,bins=[0,1,2,3,4,5])\n",
        "        #append the dataframe into the array in append mode, the array will only have 5 values which will store the values in a row\n",
        "        data.append(hist[0])\n",
        "    \n",
        "    #convert Array to Dataframe and append to the list\n",
        "    Output = pd.DataFrame(data)\n",
        "    #add row class \n",
        "    Output[\"Class\"] = i \n",
        "    csv_data=Output.to_csv('HoG_'+ j + 'Final.csv', mode='a', index=False)\n",
        "    i += 1"
      ]
    },
    {
      "cell_type": "code",
      "execution_count": 21,
      "metadata": {},
      "outputs": [
        {
          "name": "stdout",
          "output_type": "stream",
          "text": [
            "     0  1  2  3  4  Class\n",
            "0    0  0  0  1  0      0\n",
            "1    0  0  0  1  0      0\n",
            "2    0  1  0  0  0      0\n",
            "3    0  0  0  0  1      0\n",
            "4    0  1  0  0  0      0\n",
            "..  .. .. .. .. ..    ...\n",
            "244  0  0  0  0  1      2\n",
            "245  0  1  0  0  0      2\n",
            "246  0  1  0  0  0      2\n",
            "247  0  0  0  0  1      2\n",
            "248  0  1  0  0  0      2\n",
            "\n",
            "[609 rows x 6 columns]\n"
          ]
        },
        {
          "name": "stderr",
          "output_type": "stream",
          "text": [
            "C:\\Users\\sumit\\AppData\\Local\\Temp\\ipykernel_8412\\2610469491.py:2: FutureWarning: The frame.append method is deprecated and will be removed from pandas in a future version. Use pandas.concat instead.\n",
            "  temp1 = final.append(pd.read_csv('./HoG_Knock KneesFinal.csv'))\n",
            "C:\\Users\\sumit\\AppData\\Local\\Temp\\ipykernel_8412\\2610469491.py:4: FutureWarning: The frame.append method is deprecated and will be removed from pandas in a future version. Use pandas.concat instead.\n",
            "  tcc = temp1.append(tc)\n"
          ]
        }
      ],
      "source": [
        "final = pd.read_csv('./HoG_BowlegsFinal.csv')\n",
        "temp1 = final.append(pd.read_csv('./HoG_Knock KneesFinal.csv'))\n",
        "tc = pd.read_csv('./HoG_Normal KneeFinal.csv')\n",
        "tcc = temp1.append(tc)\n",
        "\n",
        "csv_data = tcc.to_csv('HoG_FeatureFinal.csv', mode='a', index=False)\n",
        "print(tcc)"
      ]
    },
    {
      "cell_type": "code",
      "execution_count": 22,
      "metadata": {},
      "outputs": [],
      "source": [
        "df = pd.read_csv(\"./HoG_FeatureFinal.csv\")"
      ]
    }
  ],
  "metadata": {
    "colab": {
      "provenance": []
    },
    "kernelspec": {
      "display_name": "Python 3.9.12 ('base')",
      "language": "python",
      "name": "python3"
    },
    "language_info": {
      "codemirror_mode": {
        "name": "ipython",
        "version": 3
      },
      "file_extension": ".py",
      "mimetype": "text/x-python",
      "name": "python",
      "nbconvert_exporter": "python",
      "pygments_lexer": "ipython3",
      "version": "3.9.12"
    },
    "vscode": {
      "interpreter": {
        "hash": "e11265db24d7d7b1d9a614b6c8aed899b36881c20eb26f07e2c77f204b3164ce"
      }
    }
  },
  "nbformat": 4,
  "nbformat_minor": 0
}
